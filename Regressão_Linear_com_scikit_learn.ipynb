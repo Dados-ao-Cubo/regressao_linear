{
  "nbformat": 4,
  "nbformat_minor": 0,
  "metadata": {
    "colab": {
      "name": "Regressão Linear com scikit-learn.ipynb",
      "provenance": [],
      "collapsed_sections": []
    },
    "kernelspec": {
      "name": "python3",
      "display_name": "Python 3"
    }
  },
  "cells": [
    {
      "cell_type": "markdown",
      "metadata": {
        "id": "K1FsaC50D8B2",
        "colab_type": "text"
      },
      "source": [
        "![Texto](https://dadosaocubo.com/wp-content/uploads/2020/06/DADOS-AO-CUBO-Vers%C3%A3o-04-1.png) "
      ]
    },
    {
      "cell_type": "markdown",
      "metadata": {
        "id": "BJElcCQ6DwXv",
        "colab_type": "text"
      },
      "source": [
        "[__D³__](https://dadosaocubo.com/) by [__Tiago Dias__](https://www.linkedin.com/in/diasctiago/) "
      ]
    },
    {
      "cell_type": "markdown",
      "metadata": {
        "id": "0r9Hus5x5WiG",
        "colab_type": "text"
      },
      "source": [
        "Este é o primeiro post da trilha de modelos de Machine Learning (ML), vamos começar com os mais básicos e evoluir até chegar em modelos mais complexos. Mas que raios são esses tais modelos? Modelos de ML são algoritmos com funções matemáticas treinados para reconhecer determinados padrões e realizar predições a partir desses padrões. Mas não é esse monstro todo que parece, vamos por partes igual ao Jack.\n",
        "\n",
        "Neste post vamos abordar um dos modelos mais “básicos” de ML, mas não menos importante. A regressão linear apesar de um modelo relativamente simples, se comparado a outros que abordaremos nos próximos posts, tem um grande poder de predição e é solução para diversos problemas comuns. Antes de ver a sua aplicação com a biblioteca scikit-learn, vamos ver alguns conceitos importantes que não devem ser esquecidos.\n",
        "\n",
        "POST: [Regressão com scikit-learn](https://)"
      ]
    },
    {
      "cell_type": "markdown",
      "metadata": {
        "id": "-EBOh8Krz_Uq",
        "colab_type": "text"
      },
      "source": [
        "# Regressão linear"
      ]
    },
    {
      "cell_type": "markdown",
      "metadata": {
        "id": "DCTwhFzE4xEh",
        "colab_type": "text"
      },
      "source": [
        "A regressão linear pode ser definida pela estatística como uma equação que busca estimar o(s) valor(es) de **y**, dados uma ou mais variáveis **x**. Sendo definido pela equação matemática:\n",
        "\n",
        "$$ y = a + bx $$\n",
        "\n",
        "Onde y é a variável dependente de x, a é o coeficiente linear e b é o coeficiente angular. Calma que não é tão difícil quanto parece, na prática é bem mais simples, vamos em frente.\n",
        "Curiosidades:\n",
        "*   Apesar do nome, a regressão linear também lida com relações não \n",
        "lineares.\n",
        "*   Em problemas de regressão, as variáveis independentes podem ser numéricas ou categóricas, enquanto a variável explicada (dependente) é sempre numérica."
      ]
    },
    {
      "cell_type": "markdown",
      "metadata": {
        "id": "85aPlF1i0Ec3",
        "colab_type": "text"
      },
      "source": [
        "#### Teoria"
      ]
    },
    {
      "cell_type": "markdown",
      "metadata": {
        "id": "rlNjz28OCpxt",
        "colab_type": "text"
      },
      "source": [
        "Para ficar mais claro a nossa equação da regressão linear, podemos observar as variáveis **a** que vai definir o deslocamento da reta e a variável **b** que vai definir a inclinação da reta representada na figura abaixo.\n",
        "\n",
        "<img src=\"https://raw.githubusercontent.com/dadosaocubo/regressao_linear/master/RegLinear.png\" width=\"350\"/>\n",
        "\n",
        "Nesta figura temos um exemplo onde a variável **y** é dependente de apenas uma variável **x**, mas nos problemas do mundo real, normalmente o que temos é a variável **y** dependente de várias variáveis **x**.\n",
        "\n",
        "$$ y = b_{0} + b_{1}x_{i1} + b_{2}x_{i2} + ... + + b_{p}x_{ip} $$\n",
        "\n",
        "Onde vamos ter o número p de variáveis **x**, onde **i** denota a **i**-ésima observação do conjunto de treino. Mas não vamos nos preocupar com o tamanho da conta que o algoritmo vai fazer, para nós o importante nesse momento é entender o conceito por trás da fórmula.\n",
        "\n",
        "\n"
      ]
    },
    {
      "cell_type": "markdown",
      "metadata": {
        "id": "tjZ-Sk450IdX",
        "colab_type": "text"
      },
      "source": [
        "#### Prática"
      ]
    },
    {
      "cell_type": "markdown",
      "metadata": {
        "id": "6qqFLhshlI1p",
        "colab_type": "text"
      },
      "source": [
        "Aplicando todos esses conceitos e fórmulas que vimos acima, vamos utilizar o python e sua poderosa biblioteca para ML a [scikit-learn](https://scikit-learn.org/stable/index.html) lá podemos encontrar o famoso dataset com os preço de casas em Boston, disponível na prória biblioteca do scikit-learn como [load_boston()](https://scikit-learn.org/stable/modules/generated/sklearn.datasets.load_boston.html). Mas o que é o scikit-learn? \n",
        "\n",
        "![scikit-learn](https://scikit-learn.org/stable/_static/scikit-learn-logo-small.png)\n",
        "\n",
        "Essa biblioteca possui um conjunto de ferramentas para pré-processamento de dados e modelos de aprendizagem de máquina, inclusive a regressão linear, que se encontra no módulo **linear_model**, juntamente com outros modelos lineares. Mas vamos explorar todos os seus poderes especiais em diversos outros posts.\n",
        "\n",
        "Com os dados desse dataset é possível baseado nas suas features (variáveis independentes ou o **x**), fazer predições do target (variável dependente ou o **y**) neste problema o preço das casas em Boston.\n",
        "\n",
        "Dada essa introdução de alguns conceitos essenciais, vamos pegar os dados desse dataset, dividi-lo em duas partes, uma parte vamos utilizar para treinar o modelo (vamos mostrar ao modelo um conjunto de dados com as entradas e saídas conhecidas) e a outra parte que até então desconhecida pelo modelo, vamos usar para testar (vamos mostrar ao modelo um conjunto de dados com as entradas para que ele faça uma predição das saídas), esse seria um modelo supervisionado, quando temos dados rotulados, nossa saída já é conhecida e usamos ela para treinar o modelo, já o modelo semi-supervisionado e o não supervisionado abordaremos em outros posts para não perder o foco.\n",
        "\n",
        "Para começar vamos importar as bibliotecas necessárias para carga, tratamento e visualização dos dados, para criação do modelo e avaliação do mesmo."
      ]
    },
    {
      "cell_type": "markdown",
      "metadata": {
        "id": "ZVUvxn47pFJ1",
        "colab_type": "text"
      },
      "source": [
        "##### Importando bibliotecas"
      ]
    },
    {
      "cell_type": "code",
      "metadata": {
        "id": "r3P8w8f2pLQa",
        "colab_type": "code",
        "colab": {}
      },
      "source": [
        "import matplotlib.pyplot as plt\n",
        "import pandas as pd\n",
        "from sklearn.datasets import load_boston\n",
        "from sklearn.model_selection import train_test_split\n",
        "from sklearn.linear_model import LinearRegression\n",
        "from sklearn.metrics import mean_squared_error, mean_absolute_error, r2_score"
      ],
      "execution_count": 66,
      "outputs": []
    },
    {
      "cell_type": "markdown",
      "metadata": {
        "id": "lbhB3ugMW0jG",
        "colab_type": "text"
      },
      "source": [
        "Após carregar nossas bibliotecas, vamos carregar o nosso dataset para resolver nosso problema de regressão linear, nossos dados está dentro de uma das bibliotecas que foi carregada, o scikit-learn disponibiliza através do sklearn.datasets um conjunto de datasets para serem utilizados como exemplos e de lá selecionamos o **load_boston**, vamos ver agora como carregar ele."
      ]
    },
    {
      "cell_type": "markdown",
      "metadata": {
        "id": "WaADaGRMpoEa",
        "colab_type": "text"
      },
      "source": [
        "##### Carregando dados do dataset de Boston"
      ]
    },
    {
      "cell_type": "code",
      "metadata": {
        "id": "8oaCh3pRpnez",
        "colab_type": "code",
        "colab": {
          "base_uri": "https://localhost:8080/",
          "height": 108
        },
        "outputId": "6d20423e-7c73-4524-8c37-9caa3a5c08fa"
      },
      "source": [
        "# Selecionando os dados do load_boston\n",
        "boston = load_boston()\n",
        "# Atribuindo as variáveis features, target, feature_names os seus valores correspondentes\n",
        "features, target, feature_names = boston.data, boston.target, boston.feature_names\n",
        "# Transformamos com o pandas esses dados em um DataFrame\n",
        "df = pd.DataFrame(data=features, columns=feature_names)\n",
        "# Juntamos ao DataFrame o target(y), nossa saida\n",
        "df['PRICE'] = target\n",
        "df.head(2)"
      ],
      "execution_count": 67,
      "outputs": [
        {
          "output_type": "execute_result",
          "data": {
            "text/html": [
              "<div>\n",
              "<style scoped>\n",
              "    .dataframe tbody tr th:only-of-type {\n",
              "        vertical-align: middle;\n",
              "    }\n",
              "\n",
              "    .dataframe tbody tr th {\n",
              "        vertical-align: top;\n",
              "    }\n",
              "\n",
              "    .dataframe thead th {\n",
              "        text-align: right;\n",
              "    }\n",
              "</style>\n",
              "<table border=\"1\" class=\"dataframe\">\n",
              "  <thead>\n",
              "    <tr style=\"text-align: right;\">\n",
              "      <th></th>\n",
              "      <th>CRIM</th>\n",
              "      <th>ZN</th>\n",
              "      <th>INDUS</th>\n",
              "      <th>CHAS</th>\n",
              "      <th>NOX</th>\n",
              "      <th>RM</th>\n",
              "      <th>AGE</th>\n",
              "      <th>DIS</th>\n",
              "      <th>RAD</th>\n",
              "      <th>TAX</th>\n",
              "      <th>PTRATIO</th>\n",
              "      <th>B</th>\n",
              "      <th>LSTAT</th>\n",
              "      <th>PRICE</th>\n",
              "    </tr>\n",
              "  </thead>\n",
              "  <tbody>\n",
              "    <tr>\n",
              "      <th>0</th>\n",
              "      <td>0.00632</td>\n",
              "      <td>18.0</td>\n",
              "      <td>2.31</td>\n",
              "      <td>0.0</td>\n",
              "      <td>0.538</td>\n",
              "      <td>6.575</td>\n",
              "      <td>65.2</td>\n",
              "      <td>4.0900</td>\n",
              "      <td>1.0</td>\n",
              "      <td>296.0</td>\n",
              "      <td>15.3</td>\n",
              "      <td>396.9</td>\n",
              "      <td>4.98</td>\n",
              "      <td>24.0</td>\n",
              "    </tr>\n",
              "    <tr>\n",
              "      <th>1</th>\n",
              "      <td>0.02731</td>\n",
              "      <td>0.0</td>\n",
              "      <td>7.07</td>\n",
              "      <td>0.0</td>\n",
              "      <td>0.469</td>\n",
              "      <td>6.421</td>\n",
              "      <td>78.9</td>\n",
              "      <td>4.9671</td>\n",
              "      <td>2.0</td>\n",
              "      <td>242.0</td>\n",
              "      <td>17.8</td>\n",
              "      <td>396.9</td>\n",
              "      <td>9.14</td>\n",
              "      <td>21.6</td>\n",
              "    </tr>\n",
              "  </tbody>\n",
              "</table>\n",
              "</div>"
            ],
            "text/plain": [
              "      CRIM    ZN  INDUS  CHAS    NOX  ...    TAX  PTRATIO      B  LSTAT  PRICE\n",
              "0  0.00632  18.0   2.31   0.0  0.538  ...  296.0     15.3  396.9   4.98   24.0\n",
              "1  0.02731   0.0   7.07   0.0  0.469  ...  242.0     17.8  396.9   9.14   21.6\n",
              "\n",
              "[2 rows x 14 columns]"
            ]
          },
          "metadata": {
            "tags": []
          },
          "execution_count": 67
        }
      ]
    },
    {
      "cell_type": "markdown",
      "metadata": {
        "id": "yKX_Ik6jp69i",
        "colab_type": "text"
      },
      "source": [
        "##### Visualizando dados"
      ]
    },
    {
      "cell_type": "markdown",
      "metadata": {
        "id": "IsFWl-zlYUXe",
        "colab_type": "text"
      },
      "source": [
        "Vamos ter alguns posts específicos só para ensinar e dar dicas sobre a exploração de dados, uma parte fundamental para a criação do modelo, sem conhecer os dados fica complicado criar um modelo eficiente para o problema.\n",
        "Mas vamos ver aqui duas funções clássicas do pandas(biblioteca open source utilizada para visualização e manipulação de dados):\n",
        "\n",
        "*   **describe()** - lista as variáveis e mostra alguns dados estatísticos básicos como (mínimo, máximo, média, e outros) não deixe de conferir o post sobre estatística para saber mais sobre esses dados ([Estatística Descritiva Univariada](https://dadosaocubo.com/estatistica-descritiva-univariada/)).\n",
        "*   **info()** - lista informações sobre as colunas, utilizei para sabe se todas as features (x), nossas entradas eram numéricas e se não tinham dados nulos, pré requisitos para os modelos de regressão linear.\n",
        "\n",
        "Após analisar estas funções podemos ir para nosso modelo de regressão linear. Só lembrando que estamos tratando do conceito da regressão linear, então pode parecer está faltando algumas etapas (como é um dataset de exemplo podemos pular algumas etapas para fins de demonstração, pois os dados já foram tratados) ná dúvida sobre as etapas dos projetos de ciência de dados pode conferir neste post ([Pipeline dos Projetos de Ciência de Dados](https://dadosaocubo.com/pipeline-dos-projetos-de-ciencia-de-dados/)).\n",
        "\n"
      ]
    },
    {
      "cell_type": "code",
      "metadata": {
        "id": "efGV6R4Jp9Ux",
        "colab_type": "code",
        "colab": {
          "base_uri": "https://localhost:8080/",
          "height": 308
        },
        "outputId": "fb0054f8-64a7-4199-bda0-b3bf81b348b5"
      },
      "source": [
        "df.describe()"
      ],
      "execution_count": 68,
      "outputs": [
        {
          "output_type": "execute_result",
          "data": {
            "text/html": [
              "<div>\n",
              "<style scoped>\n",
              "    .dataframe tbody tr th:only-of-type {\n",
              "        vertical-align: middle;\n",
              "    }\n",
              "\n",
              "    .dataframe tbody tr th {\n",
              "        vertical-align: top;\n",
              "    }\n",
              "\n",
              "    .dataframe thead th {\n",
              "        text-align: right;\n",
              "    }\n",
              "</style>\n",
              "<table border=\"1\" class=\"dataframe\">\n",
              "  <thead>\n",
              "    <tr style=\"text-align: right;\">\n",
              "      <th></th>\n",
              "      <th>CRIM</th>\n",
              "      <th>ZN</th>\n",
              "      <th>INDUS</th>\n",
              "      <th>CHAS</th>\n",
              "      <th>NOX</th>\n",
              "      <th>RM</th>\n",
              "      <th>AGE</th>\n",
              "      <th>DIS</th>\n",
              "      <th>RAD</th>\n",
              "      <th>TAX</th>\n",
              "      <th>PTRATIO</th>\n",
              "      <th>B</th>\n",
              "      <th>LSTAT</th>\n",
              "      <th>PRICE</th>\n",
              "    </tr>\n",
              "  </thead>\n",
              "  <tbody>\n",
              "    <tr>\n",
              "      <th>count</th>\n",
              "      <td>506.000000</td>\n",
              "      <td>506.000000</td>\n",
              "      <td>506.000000</td>\n",
              "      <td>506.000000</td>\n",
              "      <td>506.000000</td>\n",
              "      <td>506.000000</td>\n",
              "      <td>506.000000</td>\n",
              "      <td>506.000000</td>\n",
              "      <td>506.000000</td>\n",
              "      <td>506.000000</td>\n",
              "      <td>506.000000</td>\n",
              "      <td>506.000000</td>\n",
              "      <td>506.000000</td>\n",
              "      <td>506.000000</td>\n",
              "    </tr>\n",
              "    <tr>\n",
              "      <th>mean</th>\n",
              "      <td>3.613524</td>\n",
              "      <td>11.363636</td>\n",
              "      <td>11.136779</td>\n",
              "      <td>0.069170</td>\n",
              "      <td>0.554695</td>\n",
              "      <td>6.284634</td>\n",
              "      <td>68.574901</td>\n",
              "      <td>3.795043</td>\n",
              "      <td>9.549407</td>\n",
              "      <td>408.237154</td>\n",
              "      <td>18.455534</td>\n",
              "      <td>356.674032</td>\n",
              "      <td>12.653063</td>\n",
              "      <td>22.532806</td>\n",
              "    </tr>\n",
              "    <tr>\n",
              "      <th>std</th>\n",
              "      <td>8.601545</td>\n",
              "      <td>23.322453</td>\n",
              "      <td>6.860353</td>\n",
              "      <td>0.253994</td>\n",
              "      <td>0.115878</td>\n",
              "      <td>0.702617</td>\n",
              "      <td>28.148861</td>\n",
              "      <td>2.105710</td>\n",
              "      <td>8.707259</td>\n",
              "      <td>168.537116</td>\n",
              "      <td>2.164946</td>\n",
              "      <td>91.294864</td>\n",
              "      <td>7.141062</td>\n",
              "      <td>9.197104</td>\n",
              "    </tr>\n",
              "    <tr>\n",
              "      <th>min</th>\n",
              "      <td>0.006320</td>\n",
              "      <td>0.000000</td>\n",
              "      <td>0.460000</td>\n",
              "      <td>0.000000</td>\n",
              "      <td>0.385000</td>\n",
              "      <td>3.561000</td>\n",
              "      <td>2.900000</td>\n",
              "      <td>1.129600</td>\n",
              "      <td>1.000000</td>\n",
              "      <td>187.000000</td>\n",
              "      <td>12.600000</td>\n",
              "      <td>0.320000</td>\n",
              "      <td>1.730000</td>\n",
              "      <td>5.000000</td>\n",
              "    </tr>\n",
              "    <tr>\n",
              "      <th>25%</th>\n",
              "      <td>0.082045</td>\n",
              "      <td>0.000000</td>\n",
              "      <td>5.190000</td>\n",
              "      <td>0.000000</td>\n",
              "      <td>0.449000</td>\n",
              "      <td>5.885500</td>\n",
              "      <td>45.025000</td>\n",
              "      <td>2.100175</td>\n",
              "      <td>4.000000</td>\n",
              "      <td>279.000000</td>\n",
              "      <td>17.400000</td>\n",
              "      <td>375.377500</td>\n",
              "      <td>6.950000</td>\n",
              "      <td>17.025000</td>\n",
              "    </tr>\n",
              "    <tr>\n",
              "      <th>50%</th>\n",
              "      <td>0.256510</td>\n",
              "      <td>0.000000</td>\n",
              "      <td>9.690000</td>\n",
              "      <td>0.000000</td>\n",
              "      <td>0.538000</td>\n",
              "      <td>6.208500</td>\n",
              "      <td>77.500000</td>\n",
              "      <td>3.207450</td>\n",
              "      <td>5.000000</td>\n",
              "      <td>330.000000</td>\n",
              "      <td>19.050000</td>\n",
              "      <td>391.440000</td>\n",
              "      <td>11.360000</td>\n",
              "      <td>21.200000</td>\n",
              "    </tr>\n",
              "    <tr>\n",
              "      <th>75%</th>\n",
              "      <td>3.677083</td>\n",
              "      <td>12.500000</td>\n",
              "      <td>18.100000</td>\n",
              "      <td>0.000000</td>\n",
              "      <td>0.624000</td>\n",
              "      <td>6.623500</td>\n",
              "      <td>94.075000</td>\n",
              "      <td>5.188425</td>\n",
              "      <td>24.000000</td>\n",
              "      <td>666.000000</td>\n",
              "      <td>20.200000</td>\n",
              "      <td>396.225000</td>\n",
              "      <td>16.955000</td>\n",
              "      <td>25.000000</td>\n",
              "    </tr>\n",
              "    <tr>\n",
              "      <th>max</th>\n",
              "      <td>88.976200</td>\n",
              "      <td>100.000000</td>\n",
              "      <td>27.740000</td>\n",
              "      <td>1.000000</td>\n",
              "      <td>0.871000</td>\n",
              "      <td>8.780000</td>\n",
              "      <td>100.000000</td>\n",
              "      <td>12.126500</td>\n",
              "      <td>24.000000</td>\n",
              "      <td>711.000000</td>\n",
              "      <td>22.000000</td>\n",
              "      <td>396.900000</td>\n",
              "      <td>37.970000</td>\n",
              "      <td>50.000000</td>\n",
              "    </tr>\n",
              "  </tbody>\n",
              "</table>\n",
              "</div>"
            ],
            "text/plain": [
              "             CRIM          ZN       INDUS  ...           B       LSTAT       PRICE\n",
              "count  506.000000  506.000000  506.000000  ...  506.000000  506.000000  506.000000\n",
              "mean     3.613524   11.363636   11.136779  ...  356.674032   12.653063   22.532806\n",
              "std      8.601545   23.322453    6.860353  ...   91.294864    7.141062    9.197104\n",
              "min      0.006320    0.000000    0.460000  ...    0.320000    1.730000    5.000000\n",
              "25%      0.082045    0.000000    5.190000  ...  375.377500    6.950000   17.025000\n",
              "50%      0.256510    0.000000    9.690000  ...  391.440000   11.360000   21.200000\n",
              "75%      3.677083   12.500000   18.100000  ...  396.225000   16.955000   25.000000\n",
              "max     88.976200  100.000000   27.740000  ...  396.900000   37.970000   50.000000\n",
              "\n",
              "[8 rows x 14 columns]"
            ]
          },
          "metadata": {
            "tags": []
          },
          "execution_count": 68
        }
      ]
    },
    {
      "cell_type": "code",
      "metadata": {
        "id": "bCbCmFJVp88V",
        "colab_type": "code",
        "colab": {
          "base_uri": "https://localhost:8080/",
          "height": 399
        },
        "outputId": "38f17962-94fc-410d-c476-6c2ba0f89037"
      },
      "source": [
        "df.info()"
      ],
      "execution_count": 69,
      "outputs": [
        {
          "output_type": "stream",
          "text": [
            "<class 'pandas.core.frame.DataFrame'>\n",
            "RangeIndex: 506 entries, 0 to 505\n",
            "Data columns (total 14 columns):\n",
            " #   Column   Non-Null Count  Dtype  \n",
            "---  ------   --------------  -----  \n",
            " 0   CRIM     506 non-null    float64\n",
            " 1   ZN       506 non-null    float64\n",
            " 2   INDUS    506 non-null    float64\n",
            " 3   CHAS     506 non-null    float64\n",
            " 4   NOX      506 non-null    float64\n",
            " 5   RM       506 non-null    float64\n",
            " 6   AGE      506 non-null    float64\n",
            " 7   DIS      506 non-null    float64\n",
            " 8   RAD      506 non-null    float64\n",
            " 9   TAX      506 non-null    float64\n",
            " 10  PTRATIO  506 non-null    float64\n",
            " 11  B        506 non-null    float64\n",
            " 12  LSTAT    506 non-null    float64\n",
            " 13  PRICE    506 non-null    float64\n",
            "dtypes: float64(14)\n",
            "memory usage: 55.5 KB\n"
          ],
          "name": "stdout"
        }
      ]
    },
    {
      "cell_type": "markdown",
      "metadata": {
        "id": "4LFakLow0QTJ",
        "colab_type": "text"
      },
      "source": [
        "##### LinearRegression"
      ]
    },
    {
      "cell_type": "markdown",
      "metadata": {
        "id": "AniEVSBjcKh0",
        "colab_type": "text"
      },
      "source": [
        "Vamos começar selecionando nossas features e target, entradas e saidas ou simplismente X e y são nomes comuns que podem aparecer na literatura. Para ficar mais didático vamos selecionar apenas uma variável de entrada."
      ]
    },
    {
      "cell_type": "markdown",
      "metadata": {
        "id": "JjtrNGfDtrK6",
        "colab_type": "text"
      },
      "source": [
        "Selecionando Variáveis para o modelo"
      ]
    },
    {
      "cell_type": "code",
      "metadata": {
        "id": "CLjlj0O-tsa0",
        "colab_type": "code",
        "colab": {}
      },
      "source": [
        "X = df[['LSTAT']]\n",
        "y = df.PRICE"
      ],
      "execution_count": 70,
      "outputs": []
    },
    {
      "cell_type": "markdown",
      "metadata": {
        "id": "x2U9g4njckgs",
        "colab_type": "text"
      },
      "source": [
        "Após a seleção do X e y, como falado anteriormente, vamos dividir nossos dados em treino e teste para que possamos após a criação do modelo testar a performance do mesmo."
      ]
    },
    {
      "cell_type": "markdown",
      "metadata": {
        "id": "d90cFCHPtyKY",
        "colab_type": "text"
      },
      "source": [
        "Dividindo os dados em treino e teste"
      ]
    },
    {
      "cell_type": "markdown",
      "metadata": {
        "id": "QuGE5uw5c41U",
        "colab_type": "text"
      },
      "source": [
        "A variável **test_size** vai definir o tamanho dos nossos dados selecionados para teste, o tamanho dessa divisão, não existe uma regra para isso, vai depender de cada problema e principalmente do tamanho do conjunto de dados que temos para treino."
      ]
    },
    {
      "cell_type": "code",
      "metadata": {
        "id": "9ZI4bNd9t1Oy",
        "colab_type": "code",
        "colab": {}
      },
      "source": [
        "X_train, X_test, y_train, y_test = train_test_split(X, y, test_size=0.25)"
      ],
      "execution_count": 71,
      "outputs": []
    },
    {
      "cell_type": "markdown",
      "metadata": {
        "id": "TykiMmyadoCe",
        "colab_type": "text"
      },
      "source": [
        "Com nossos dados de treino dividido, podemos criar o modelo, que é uma tarefa relativamente simples, na prática o mais dificil é saber: Qual melhor modelo usar? Quais são os melhores hiperparâmetros? Mas essas e outras dúvidas vamos responder em outros posts."
      ]
    },
    {
      "cell_type": "markdown",
      "metadata": {
        "id": "tEExrZC_t2IM",
        "colab_type": "text"
      },
      "source": [
        "Criando o modelo"
      ]
    },
    {
      "cell_type": "code",
      "metadata": {
        "id": "aR_o1VVRootD",
        "colab_type": "code",
        "colab": {
          "base_uri": "https://localhost:8080/",
          "height": 90
        },
        "outputId": "996c9237-38f9-46e7-8577-55b3bd456f89"
      },
      "source": [
        "# Criando o modelo LinearRegression\n",
        "regr = LinearRegression()\n",
        "# Realizar treinamento do modelo\n",
        "regr.fit(X_train, y_train)\n",
        "# Realizar predição com os dados separados para teste\n",
        "y_pred = regr.predict(X_test)\n",
        "# Visualização dos 20 primeiros resultados\n",
        "y_pred[:20]"
      ],
      "execution_count": 72,
      "outputs": [
        {
          "output_type": "execute_result",
          "data": {
            "text/plain": [
              "array([17.18471224, 31.49770516,  6.61946352, 32.75950848, 22.24134198,\n",
              "       16.38431461, 20.82887557, 29.39783843, 23.55964396, 29.87807701,\n",
              "       29.99107433,  6.98670479, 29.21892602, 17.87211256, 20.63113027,\n",
              "       18.45593201, 26.84598246, 30.24531828, 21.29028126,  9.48206211])"
            ]
          },
          "metadata": {
            "tags": []
          },
          "execution_count": 72
        }
      ]
    },
    {
      "cell_type": "markdown",
      "metadata": {
        "id": "xJ7G0dvbhJz6",
        "colab_type": "text"
      },
      "source": [
        "Lembra quando nós definimos a função da regressão linear? \n",
        "$$ y = a + bx $$ \n",
        "Abaixo nós temos o resultado de **a** o coeficiente linear e **b** o coéficiente angular do nosso modelo gerado, dados esses valores conseguimos prever qualquer ponto da reta somente com o valor de **x**, então temos o nosso modelo de regressão linear.\n",
        "\n",
        "\n",
        "\n"
      ]
    },
    {
      "cell_type": "code",
      "metadata": {
        "id": "Zn8Zz_MCooqc",
        "colab_type": "code",
        "colab": {
          "base_uri": "https://localhost:8080/",
          "height": 54
        },
        "outputId": "fb43bbf9-fe39-4834-b5f4-b91b85485de8"
      },
      "source": [
        "print('Coeficiente Angular:', regr.coef_)\n",
        "print('Coeficiente Linear:', regr.intercept_)"
      ],
      "execution_count": 73,
      "outputs": [
        {
          "output_type": "stream",
          "text": [
            "Coeficiente Angular: [-0.94164427]\n",
            "Coeficiente Linear: 34.56746548140728\n"
          ],
          "name": "stdout"
        }
      ]
    },
    {
      "cell_type": "markdown",
      "metadata": {
        "id": "q6MNA9KjiDmL",
        "colab_type": "text"
      },
      "source": [
        "E agora? Terminanos? Nosso modelo ficou bom? Ainda precisamos avaliar nosso modelo afim de saber se ele resolve nosso problema com um erro aceitável. Erro? Não pode ter erro. Calma, os modelos são calculos baseados em estatisticas então sempre vamos ter um erro, o que podemos fazer é minimizar esse erro, para que ele seja aceitável para o nosso problema."
      ]
    },
    {
      "cell_type": "markdown",
      "metadata": {
        "id": "mN1ll9420i0D",
        "colab_type": "text"
      },
      "source": [
        "#### Validação de regressão"
      ]
    },
    {
      "cell_type": "markdown",
      "metadata": {
        "id": "h8k0K1AljUgd",
        "colab_type": "text"
      },
      "source": [
        "Vejamos o gráfico abaixo, em azul nossa linha de regressão linear, em laranja nossas saidas originais, nosso erro é dado por **e** que é a diferença entre a saida original e a saida prevista pelo modelo, essa diferença pode ser positiva ou negativa e isso vai influenciar tambem na nossa analise de erro, vamos analisar o **erro médio absoluto**, o **erro quadrático médio** e o **coeficiente de determinação**."
      ]
    },
    {
      "cell_type": "markdown",
      "metadata": {
        "id": "wSoUlCkK3REJ",
        "colab_type": "text"
      },
      "source": [
        "<img src=\"https://raw.githubusercontent.com/dadosaocubo/regressao_linear/master/RegLinearErro.png\" width=\"350\"/>"
      ]
    },
    {
      "cell_type": "markdown",
      "metadata": {
        "id": "7Hld2D-D0yBu",
        "colab_type": "text"
      },
      "source": [
        "##### Erro Médio Absoluto (Median Absolute Error)"
      ]
    },
    {
      "cell_type": "markdown",
      "metadata": {
        "id": "Fq3gcYFClKFt",
        "colab_type": "text"
      },
      "source": [
        "O erro médio absoluto (MAE) é a média da soma de todos os **e** do nosso gráfico de erros, as sua análise sofre uma interferencia devido aos erros positivos e negativos se anularem.\n",
        "\n",
        "Para calcular o MAE do nosso modelo podemos usar o código abaixo."
      ]
    },
    {
      "cell_type": "code",
      "metadata": {
        "id": "NgwcL0CTqiqU",
        "colab_type": "code",
        "colab": {
          "base_uri": "https://localhost:8080/",
          "height": 35
        },
        "outputId": "096a5bbd-d5df-4ce6-f3b4-f1ddad09e6a6"
      },
      "source": [
        "print('MAE: %.2f' % mean_absolute_error(y_test, y_pred))"
      ],
      "execution_count": 74,
      "outputs": [
        {
          "output_type": "stream",
          "text": [
            "MAE: 4.29\n"
          ],
          "name": "stdout"
        }
      ]
    },
    {
      "cell_type": "markdown",
      "metadata": {
        "id": "6UNEz9yN04Dd",
        "colab_type": "text"
      },
      "source": [
        "##### Erro Quadrado Médio (Mean Squared Error)"
      ]
    },
    {
      "cell_type": "markdown",
      "metadata": {
        "id": "fCUR9pJ1mSZR",
        "colab_type": "text"
      },
      "source": [
        "O erro quadrado médio (MSE) é a média da soma de todos os **e** elevados ao quadrado do nosso gráfico, o fato de ele ter as diferencas elevadas ao quadrados resolve o problema de os erros positivos e negativos se anularem, sendo mais preciso que o MAE.\n",
        "\n",
        "Para calcular o MSE do nosso modelo podemos usar o código abaixo.\n",
        "\n",
        "\n"
      ]
    },
    {
      "cell_type": "code",
      "metadata": {
        "id": "ZrmfIapBq1Lo",
        "colab_type": "code",
        "colab": {
          "base_uri": "https://localhost:8080/",
          "height": 35
        },
        "outputId": "35380310-05ad-4ee0-a28c-68d92408533f"
      },
      "source": [
        "print('MSE: %.2f' % mean_squared_error(y_test, y_pred))"
      ],
      "execution_count": 75,
      "outputs": [
        {
          "output_type": "stream",
          "text": [
            "MSE: 34.68\n"
          ],
          "name": "stdout"
        }
      ]
    },
    {
      "cell_type": "markdown",
      "metadata": {
        "id": "SoZaLQ34q6R7",
        "colab_type": "text"
      },
      "source": [
        "##### Coeficiente de Determinação (R2 Score)"
      ]
    },
    {
      "cell_type": "markdown",
      "metadata": {
        "id": "NkEX49gunOtm",
        "colab_type": "text"
      },
      "source": [
        "O coeficiente de Determinação (R²) varia entre 0 e 1 e expressa a quantidade da variância dos dados que é explicada pelo modelo linear. Explicando a variância da variável dependente a partir da variável independente.\n",
        "\n",
        "No nosso exemplo o R² = 0,59 significa que o modelo linear explica 59% da variância da variável dependente a partir da variável independente."
      ]
    },
    {
      "cell_type": "code",
      "metadata": {
        "id": "g5hKfNhprAja",
        "colab_type": "code",
        "colab": {
          "base_uri": "https://localhost:8080/",
          "height": 35
        },
        "outputId": "782e7599-8a98-4ea0-84bd-5896a0997ae5"
      },
      "source": [
        "print('R2 Score: %.2f' % r2_score(y_test, y_pred))"
      ],
      "execution_count": 76,
      "outputs": [
        {
          "output_type": "stream",
          "text": [
            "R2 Score: 0.54\n"
          ],
          "name": "stdout"
        }
      ]
    },
    {
      "cell_type": "markdown",
      "metadata": {
        "id": "mvtNVYS2orxl",
        "colab_type": "text"
      },
      "source": [
        "Dada as explicações para avaliação do modelo, vamos visualizar os dados reais de forma gráfica para fixar os conhecimentos."
      ]
    },
    {
      "cell_type": "markdown",
      "metadata": {
        "id": "-wTz7pddrFgi",
        "colab_type": "text"
      },
      "source": [
        "##### Visualizando os resultados"
      ]
    },
    {
      "cell_type": "markdown",
      "metadata": {
        "id": "1KoD0KVWo4TT",
        "colab_type": "text"
      },
      "source": [
        "\n",
        "Podemos no gráfico abaixo, os pontos pretos que representam os nossos dados reais e em azul a reta de regressão linear do nosso modelo, dá para observar que temos dados um tanto dispersos, o que não faz o nosso modelos performar tão bem. Ao longo dos próximos posts vão entender melhor como melhorar nossos modelos, tratar os dados dispersos, incluir novas variáveis de entrada entre outras técnicas que podem ser aplicadas. "
      ]
    },
    {
      "cell_type": "code",
      "metadata": {
        "id": "_kE9TZwgrKXp",
        "colab_type": "code",
        "colab": {
          "base_uri": "https://localhost:8080/",
          "height": 415
        },
        "outputId": "1d4a2411-ef7f-491f-f990-3ebfe38031fe"
      },
      "source": [
        "plt.rcParams['figure.figsize'] = (11,7)\n",
        "plt.scatter(X_test, y_test,  color='black')\n",
        "plt.plot(X_test, y_pred, color='blue', linewidth=3)\n",
        "plt.xticks(())\n",
        "plt.yticks(())\n",
        "plt.show()"
      ],
      "execution_count": 77,
      "outputs": [
        {
          "output_type": "display_data",
          "data": {
            "image/png": "[encoded data removed]",
            "text/plain": [
              "<Figure size 792x504 with 1 Axes>"
            ]
          },
          "metadata": {
            "tags": []
          }
        }
      ]
    },
    {
      "cell_type": "markdown",
      "metadata": {
        "id": "SBxwvZgt_Il9",
        "colab_type": "text"
      },
      "source": [
        "### Referências\n",
        "*   [Introduction to Machine Learning Algorithms: Linear Regression](https://towardsdatascience.com/introduction-to-machine-learning-algorithms-linear-regression-14c4e325882a)\n",
        "*   [Regressão linear](https://pt.wikipedia.org/wiki/Regress%C3%A3o_linear)\n",
        "*   [Understanding Regression Error Metrics in Python](https://www.dataquest.io/blog/understanding-regression-error-metrics/)"
      ]
    }
  ]
}